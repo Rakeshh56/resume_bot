{
 "cells": [
  {
   "cell_type": "code",
   "execution_count": null,
   "id": "818f14d3-0689-4c28-86f0-e6e4ccf828a0",
   "metadata": {},
   "outputs": [],
   "source": []
  },
  {
   "cell_type": "code",
   "execution_count": 3,
   "id": "f0dc5fbd-c6da-4951-ab60-83104404e160",
   "metadata": {},
   "outputs": [
    {
     "name": "stderr",
     "output_type": "stream",
     "text": [
      "Device set to use cpu\n"
     ]
    },
    {
     "name": "stdout",
     "output_type": "stream",
     "text": [
      "✅ Model saved to resume_chain.pkl\n"
     ]
    }
   ],
   "source": [
    "\n",
    "import os\n",
    "import pickle\n",
    "import fitz  # PyMuPDF\n",
    "from transformers import AutoTokenizer, pipeline, AutoModelForSeq2SeqLM\n",
    "from langchain.llms import HuggingFacePipeline\n",
    "from langchain.prompts import PromptTemplate\n",
    "from langchain.chains import LLMChain\n",
    "\n",
    "# -------------------------\n",
    "# -------------------------\n",
    "def extract_text_from_pdf(pdf_path):\n",
    "    doc = fitz.open(pdf_path)\n",
    "    text = \"\"\n",
    "    for page in doc:\n",
    "        text += page.get_text()\n",
    "    return text\n",
    "\n",
    "# -------------------------\n",
    "# -------------------------\n",
    "template = \"\"\"\n",
    "You are an expert recruiter. Compare the following resume with the job description.\n",
    "\n",
    "Resume:\n",
    "{resume}\n",
    "\n",
    "Job Description:\n",
    "{jd}\n",
    "\n",
    "Answer:\n",
    "1. Match percentage (0-100)?\n",
    "2. List top matched skills.\n",
    "3. List missing/weak skills.\n",
    "4. Is this candidate a good fit? Why?\n",
    "\"\"\"\n",
    "\n",
    "prompt = PromptTemplate(\n",
    "    input_variables=[\"resume\", \"jd\"],\n",
    "    template=template\n",
    ")\n",
    "\n",
    "# -------------------------\n",
    "# -------------------------\n",
    "model_name = \"google/flan-t5-base\"\n",
    "\n",
    "tokenizer = AutoTokenizer.from_pretrained(model_name)\n",
    "model = AutoModelForSeq2SeqLM.from_pretrained(model_name)\n",
    "\n",
    "pipe = pipeline(\n",
    "    \"text2text-generation\",\n",
    "    model=model,\n",
    "    tokenizer=tokenizer,\n",
    "    max_length=512\n",
    ")\n",
    "\n",
    "llm = HuggingFacePipeline(pipeline=pipe)\n",
    "\n",
    "# -------------------------\n",
    "# -------------------------\n",
    "chain = LLMChain(llm=llm, prompt=prompt)\n",
    "\n",
    "# -------------------------\n",
    "# -------------------------\n",
    "with open(\"resume_chain.pkl\", \"wb\") as f:\n",
    "    pickle.dump(chain, f)\n",
    "\n",
    "print(\"✅ Model saved to resume_chain.pkl\")\n"
   ]
  },
  {
   "cell_type": "code",
   "execution_count": null,
   "id": "67241e09-49d7-4ed5-850f-80ff3a2ad2d2",
   "metadata": {},
   "outputs": [],
   "source": []
  },
  {
   "cell_type": "code",
   "execution_count": null,
   "id": "7c722a97-3895-46f1-a541-948134d95f16",
   "metadata": {},
   "outputs": [],
   "source": []
  },
  {
   "cell_type": "code",
   "execution_count": null,
   "id": "b206bcff-5435-4e5e-a2d6-d888d5ceca52",
   "metadata": {},
   "outputs": [],
   "source": []
  },
  {
   "cell_type": "code",
   "execution_count": null,
   "id": "abae61e3-447e-4cad-8c7d-17438afe0dae",
   "metadata": {},
   "outputs": [],
   "source": []
  },
  {
   "cell_type": "code",
   "execution_count": null,
   "id": "bb229b23-0bd7-40fb-94cc-d1fc6da32192",
   "metadata": {},
   "outputs": [],
   "source": []
  }
 ],
 "metadata": {
  "kernelspec": {
   "display_name": "Python 3 (ipykernel)",
   "language": "python",
   "name": "python3"
  },
  "language_info": {
   "codemirror_mode": {
    "name": "ipython",
    "version": 3
   },
   "file_extension": ".py",
   "mimetype": "text/x-python",
   "name": "python",
   "nbconvert_exporter": "python",
   "pygments_lexer": "ipython3",
   "version": "3.11.7"
  }
 },
 "nbformat": 4,
 "nbformat_minor": 5
}
